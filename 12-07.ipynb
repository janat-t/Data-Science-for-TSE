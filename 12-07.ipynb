{
 "cells": [
  {
   "cell_type": "code",
   "execution_count": 1,
   "id": "9e992bb7",
   "metadata": {},
   "outputs": [],
   "source": [
    "import numpy as np\n",
    "import pandas as pd"
   ]
  },
  {
   "cell_type": "code",
   "execution_count": 2,
   "id": "2eb65de4",
   "metadata": {},
   "outputs": [
    {
     "name": "stdout",
     "output_type": "stream",
     "text": [
      "mean: 49.20, var: 3.16, std: 1.78\n"
     ]
    }
   ],
   "source": [
    "test_sample = pd.Series([47, 51, 49, 50, 49,\n",
    "                         46, 51, 48, 52, 49])\n",
    "\n",
    "print('mean: {:.2f}, var: {:.2f}, std: {:.2f}'.\n",
    "      format(test_sample.mean(), test_sample.var(ddof=0), test_sample.std(ddof=0)))"
   ]
  },
  {
   "cell_type": "code",
   "execution_count": 3,
   "id": "141ac8ed",
   "metadata": {},
   "outputs": [],
   "source": [
    "import matplotlib.pyplot as plt\n",
    "from sklearn import datasets, linear_model\n",
    "from sklearn.metrics import mean_squared_error"
   ]
  },
  {
   "cell_type": "code",
   "execution_count": 4,
   "id": "f65e0e43",
   "metadata": {},
   "outputs": [],
   "source": [
    "x1 = np.array([2488.53, 5013.50, 4414.01, 221.20])\n",
    "y1 = np.array([661.7, 1332, 1173, 59.54])"
   ]
  },
  {
   "cell_type": "code",
   "execution_count": 5,
   "id": "39601d2f",
   "metadata": {},
   "outputs": [],
   "source": [
    "x2 = x1.reshape((-1, 1))"
   ]
  },
  {
   "cell_type": "code",
   "execution_count": 6,
   "id": "a9025431",
   "metadata": {},
   "outputs": [
    {
     "data": {
      "text/plain": [
       "array([[2488.53],\n",
       "       [5013.5 ],\n",
       "       [4414.01],\n",
       "       [ 221.2 ]])"
      ]
     },
     "execution_count": 6,
     "metadata": {},
     "output_type": "execute_result"
    }
   ],
   "source": [
    "x2"
   ]
  },
  {
   "cell_type": "code",
   "execution_count": 7,
   "id": "4908a873",
   "metadata": {},
   "outputs": [],
   "source": [
    "# Creat linear regression object\n",
    "regr = linear_model.LinearRegression()"
   ]
  },
  {
   "cell_type": "code",
   "execution_count": 8,
   "id": "632b14c8",
   "metadata": {},
   "outputs": [
    {
     "data": {
      "text/plain": [
       "LinearRegression()"
      ]
     },
     "execution_count": 8,
     "metadata": {},
     "output_type": "execute_result"
    }
   ],
   "source": [
    "regr.fit(x2, y1)"
   ]
  },
  {
   "cell_type": "code",
   "execution_count": 9,
   "id": "f39c6476",
   "metadata": {},
   "outputs": [],
   "source": [
    "y1_pred = regr.predict(x2)"
   ]
  },
  {
   "cell_type": "code",
   "execution_count": 10,
   "id": "ee4dcc81",
   "metadata": {},
   "outputs": [
    {
     "name": "stdout",
     "output_type": "stream",
     "text": [
      "Coefficients: \n",
      " [0.26553401]\n",
      "Y-intercept: \n",
      " 0.8474991904582794\n",
      "Mean squared error: 0.01\n"
     ]
    }
   ],
   "source": [
    "print(\"Coefficients: \\n\", regr.coef_)\n",
    "\n",
    "print(\"Y-intercept: \\n\", regr.intercept_)\n",
    "\n",
    "print(\"Mean squared error: %.2f\"% mean_squared_error(y1, y1_pred))"
   ]
  },
  {
   "cell_type": "code",
   "execution_count": 11,
   "id": "4e2ed9fd",
   "metadata": {},
   "outputs": [
    {
     "data": {
      "image/png": "[encoded data removed]",
      "text/plain": [
       "<Figure size 432x288 with 1 Axes>"
      ]
     },
     "metadata": {
      "needs_background": "light"
     },
     "output_type": "display_data"
    }
   ],
   "source": [
    "plt.scatter(x2, y1, color=\"black\")\n",
    "plt.plot(x2, y1_pred, color=\"blue\", linewidth=3)\n",
    "plt.xlabel(\"Channel\", fontsize=20)\n",
    "plt.ylabel(\"Actual Energy [keV]\", fontsize=20)\n",
    "\n",
    "plt.show()"
   ]
  },
  {
   "cell_type": "code",
   "execution_count": 13,
   "id": "83c63479",
   "metadata": {},
   "outputs": [
    {
     "name": "stdout",
     "output_type": "stream",
     "text": [
      "0.2236067977499758\n"
     ]
    }
   ],
   "source": [
    "u = np.array([100.0, 100.3, 99.9, 99.7, 100.1])\n",
    "print(u.std(ddof=1))"
   ]
  },
  {
   "cell_type": "markdown",
   "id": "62ba34fd",
   "metadata": {},
   "source": [
    "## Assignment 1"
   ]
  },
  {
   "cell_type": "code",
   "execution_count": 14,
   "id": "887aeeba",
   "metadata": {},
   "outputs": [],
   "source": [
    "u = np.array([100.0, 100.3, 99.9, 99.7, 100.1])\n",
    "p = 2"
   ]
  },
  {
   "cell_type": "code",
   "execution_count": 15,
   "id": "34094f52",
   "metadata": {},
   "outputs": [],
   "source": [
    "Cm = 1/p\n",
    "Cp0 = "
   ]
  },
  {
   "cell_type": "code",
   "execution_count": null,
   "id": "011de69f",
   "metadata": {},
   "outputs": [],
   "source": []
  }
 ],
 "metadata": {
  "kernelspec": {
   "display_name": "Python 3 (ipykernel)",
   "language": "python",
   "name": "python3"
  },
  "language_info": {
   "codemirror_mode": {
    "name": "ipython",
    "version": 3
   },
   "file_extension": ".py",
   "mimetype": "text/x-python",
   "name": "python",
   "nbconvert_exporter": "python",
   "pygments_lexer": "ipython3",
   "version": "3.8.13"
  }
 },
 "nbformat": 4,
 "nbformat_minor": 5
}
